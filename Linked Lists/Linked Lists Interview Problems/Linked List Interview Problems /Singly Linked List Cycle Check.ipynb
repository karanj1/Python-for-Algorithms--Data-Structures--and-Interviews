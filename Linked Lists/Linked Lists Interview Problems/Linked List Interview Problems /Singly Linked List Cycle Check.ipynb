{
 "cells": [
  {
   "cell_type": "markdown",
   "metadata": {},
   "source": [
    "# Singly Linked List Cycle Check \n",
    "\n",
    "## Problem\n",
    "\n",
    "Given a singly linked list, write a function which takes in the first node in a singly linked list and returns a boolean indicating if the linked list contains a \"cycle\".\n",
    "\n",
    "A cycle is when a node's next point actually points back to a previous node in the list. This is also sometimes known as a circularly linked list.\n",
    "\n",
    "You've been given the Linked List Node class code:"
   ]
  },
  {
   "cell_type": "code",
   "execution_count": 1,
   "metadata": {
    "collapsed": true
   },
   "outputs": [],
   "source": [
    "class Node(object):\n",
    "    \n",
    "    def __init__(self,value):\n",
    "        \n",
    "        self.value = value\n",
    "        self.nextnode = None"
   ]
  },
  {
   "cell_type": "markdown",
   "metadata": {},
   "source": [
    "## Solution\n",
    "\n",
    "Fill out your solution:"
   ]
  },
  {
   "cell_type": "code",
   "execution_count": 5,
   "metadata": {
    "collapsed": false
   },
   "outputs": [],
   "source": [
    "def cycle_check(node):\n",
    "    \n",
    "    marker1 = node\n",
    "    marker2 = node\n",
    "    \n",
    "    while marker2 is not None and marker2.nextnode != None:\n",
    "        marker1 = marker1.nextnode\n",
    "        marker2 = marker2.nextnode.nextnode\n",
    "        \n",
    "        if marker2 == marker1:\n",
    "            return True\n",
    "        \n",
    "    return False"
   ]
  },
  {
   "cell_type": "markdown",
   "metadata": {},
   "source": [
    "# Test Your Solution"
   ]
  },
  {
   "cell_type": "code",
   "execution_count": 6,
   "metadata": {
    "collapsed": false
   },
   "outputs": [
    {
     "name": "stdout",
     "output_type": "stream",
     "text": [
      "ALL TEST CASES PASSED\n"
     ]
    }
   ],
   "source": [
    "\"\"\"\n",
    "RUN THIS CELL TO TEST YOUR SOLUTION\n",
    "\"\"\"\n",
    "from nose.tools import assert_equal\n",
    "\n",
    "# CREATE CYCLE LIST\n",
    "a = Node(1)\n",
    "b = Node(2)\n",
    "c = Node(3)\n",
    "\n",
    "a.nextnode = b\n",
    "b.nextnode = c\n",
    "c.nextnode = a # Cycle Here!\n",
    "\n",
    "\n",
    "# CREATE NON CYCLE LIST\n",
    "x = Node(1)\n",
    "y = Node(2)\n",
    "z = Node(3)\n",
    "\n",
    "x.nextnode = y\n",
    "y.nextnode = z\n",
    "\n",
    "\n",
    "#############\n",
    "class TestCycleCheck(object):\n",
    "    \n",
    "    def test(self,sol):\n",
    "        assert_equal(sol(a),True)\n",
    "        assert_equal(sol(x),False)\n",
    "        \n",
    "        print (\"ALL TEST CASES PASSED\")\n",
    "        \n",
    "# Run Tests\n",
    "\n",
    "t = TestCycleCheck()\n",
    "t.test(cycle_check)\n"
   ]
  },
  {
   "cell_type": "markdown",
   "metadata": {},
   "source": [
    "## Good Job!"
   ]
  },
  {
   "cell_type": "code",
   "execution_count": 7,
   "metadata": {
    "collapsed": false
   },
   "outputs": [
    {
     "name": "stdout",
     "output_type": "stream",
     "text": [
      "Showing list data:\n",
      "31  -> \n",
      "2  -> \n",
      "3  -> \n",
      "4  -> \n",
      "None\n",
      "\n",
      "Showing list data:\n",
      "4  -> \n",
      "None\n",
      "\n",
      "Showing list data:\n",
      "1  -> \n",
      "4  -> \n",
      "8  -> \n",
      "None\n",
      "\n",
      "True\n",
      "False\n",
      "True\n"
     ]
    }
   ],
   "source": [
    "class Node(object):\n",
    " \n",
    "    def __init__(self, data):\n",
    "        self.data = data\n",
    "        self.next = None\n",
    " \n",
    " \n",
    "class SingleList(object):\n",
    " \n",
    "    head = None\n",
    "    tail = None\n",
    "    \n",
    "    def isEmpty(self):\n",
    "        return self.head == None\n",
    " \n",
    "    def show(self):\n",
    "        print (\"Showing list data:\")\n",
    "        current_node = self.head\n",
    "        while current_node is not None:\n",
    "            print (current_node.data, \" -> \",)\n",
    "            current_node = current_node.next\n",
    "        print (None)\n",
    "        \n",
    "    def addFirst(self,item):\n",
    "        node = Node(item)\n",
    "        if self.head is None:\n",
    "            self.head = self.tail = node\n",
    "        else:\n",
    "            node.next = self.head # first set new node to point to current First node (to make it second node)\n",
    "        self.head = node #set head to new node to make it First node\n",
    " \n",
    "    def appendLast(self, data):\n",
    "        node = Node(data)\n",
    "        if self.head is None:\n",
    "            self.head = self.tail = node\n",
    "        else:\n",
    "            self.tail.next = node\n",
    "        self.tail = node\n",
    " \n",
    "    def remove(self, node_value):\n",
    "        current_node = self.head\n",
    "        previous_node = None\n",
    "        while current_node is not None:\n",
    "            if current_node.data == node_value:\n",
    "                # if this is the first node (head)\n",
    "                if previous_node is not None:\n",
    "                    previous_node.next = current_node.next\n",
    "                else:\n",
    "                    self.head = current_node.next\n",
    " \n",
    "            # needed for the next iteration\n",
    "            previous_node = current_node\n",
    "            current_node = current_node.next\n",
    "            \n",
    "    def search(self,item):\n",
    "        current_node = self.head\n",
    "        found = False\n",
    "        while current_node is not None:\n",
    "            if current_node.data == item:\n",
    "                found = True\n",
    "            current_node = current_node.next\n",
    "        return found\n",
    " \n",
    " \n",
    "s = SingleList()\n",
    "s.appendLast(31)\n",
    "s.appendLast(2)\n",
    "s.appendLast(3)\n",
    "s.appendLast(4)\n",
    "s.show()\n",
    "\n",
    "print()\n",
    "\n",
    "s.remove(31)\n",
    "s.remove(3)\n",
    "s.remove(2)\n",
    "s.show()\n",
    "\n",
    "print()\n",
    "\n",
    "s.addFirst(1)\n",
    "s.appendLast(8)\n",
    "s.show()\n",
    "\n",
    "print()\n",
    "\n",
    "print (s.search(4))\n",
    "print (s.search(90))\n",
    "print (s.search(8))"
   ]
  },
  {
   "cell_type": "code",
   "execution_count": null,
   "metadata": {
    "collapsed": true
   },
   "outputs": [],
   "source": []
  }
 ],
 "metadata": {
  "kernelspec": {
   "display_name": "Python 3",
   "language": "python",
   "name": "python3"
  },
  "language_info": {
   "codemirror_mode": {
    "name": "ipython",
    "version": 3
   },
   "file_extension": ".py",
   "mimetype": "text/x-python",
   "name": "python",
   "nbconvert_exporter": "python",
   "pygments_lexer": "ipython3",
   "version": "3.5.2"
  },
  "widgets": {
   "state": {},
   "version": "1.1.2"
  }
 },
 "nbformat": 4,
 "nbformat_minor": 0
}
