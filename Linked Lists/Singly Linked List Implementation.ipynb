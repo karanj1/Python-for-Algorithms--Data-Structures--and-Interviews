{
 "cells": [
  {
   "cell_type": "markdown",
   "metadata": {},
   "source": [
    "# Singly Linked List Implementation\n",
    "\n",
    "In this lecture we will implement a basic Singly Linked List.\n",
    "\n",
    "Remember, in a singly linked list, we have an ordered list of items as individual Nodes that have pointers to other Nodes."
   ]
  },
  {
   "cell_type": "code",
   "execution_count": 12,
   "metadata": {
    "collapsed": true
   },
   "outputs": [],
   "source": [
    "class Node(object):\n",
    "    \n",
    "    def __init__(self,value):\n",
    "        \n",
    "        self.value = value\n",
    "        self.nextnode = None"
   ]
  },
  {
   "cell_type": "markdown",
   "metadata": {},
   "source": [
    "Now we can build out Linked List with the collection of nodes:"
   ]
  },
  {
   "cell_type": "code",
   "execution_count": 13,
   "metadata": {
    "collapsed": true
   },
   "outputs": [],
   "source": [
    "a = Node(1)\n",
    "b = Node(2)\n",
    "c = Node(3)"
   ]
  },
  {
   "cell_type": "code",
   "execution_count": 14,
   "metadata": {
    "collapsed": false
   },
   "outputs": [],
   "source": [
    "a.nextnode = b"
   ]
  },
  {
   "cell_type": "code",
   "execution_count": 15,
   "metadata": {
    "collapsed": true
   },
   "outputs": [],
   "source": [
    "b.nextnode = c"
   ]
  },
  {
   "cell_type": "markdown",
   "metadata": {},
   "source": [
    "In a Linked List the first node is called the **head** and the last node is called the **tail**. Let's discuss the pros and cons of Linked Lists:\n",
    "\n",
    "## Pros\n",
    "\n",
    "* Linked Lists have constant-time insertions and deletions in any position, in comparison, arrays require O(n) time to do the same thing.\n",
    "\n",
    "* Linked lists can continue to expand without having to specify their size ahead of time (remember our lectures on Array sizing form the Array Sequence section of the course!)\n",
    "\n",
    "## Cons\n",
    "\n",
    "* To access an element in a linked list, you need to take O(k) time to go from the head of the list to the kth element. In contrast, arrays have constant time operations to access elements in an array."
   ]
  },
  {
   "cell_type": "markdown",
   "metadata": {},
   "source": [
    "# Good Job!\n",
    "\n",
    "That's it for the implementation (pretty simple right?). Up next we will learn about Doubly Linked Lists!"
   ]
  },
  {
   "cell_type": "code",
   "execution_count": 26,
   "metadata": {
    "collapsed": false
   },
   "outputs": [
    {
     "name": "stdout",
     "output_type": "stream",
     "text": [
      "Showing list data:\n",
      "None\n",
      "Showing list data:\n",
      "31  -> \n",
      "2  -> \n",
      "3  -> \n",
      "4  -> \n",
      "None\n",
      "\n",
      "Showing list data:\n",
      "4  -> \n",
      "None\n",
      "\n",
      "Showing list data:\n",
      "1  -> \n",
      "4  -> \n",
      "8  -> \n",
      "None\n",
      "\n",
      "True\n",
      "False\n",
      "True\n"
     ]
    }
   ],
   "source": [
    "#http://ls.pwd.io/2014/08/singly-and-doubly-linked-lists-in-python/\n",
    "class Node(object):\n",
    " \n",
    "    def __init__(self, data):\n",
    "        self.data = data\n",
    "        self.next = None\n",
    " \n",
    " \n",
    "class SingleList(object):\n",
    " \n",
    "    head = None\n",
    "    \n",
    "    def isEmpty(self):\n",
    "        return self.head == None\n",
    " \n",
    "    def show(self):\n",
    "        print (\"Showing list data:\")\n",
    "        current_node = self.head\n",
    "        while current_node is not None:\n",
    "            print (current_node.data, \" -> \",)\n",
    "            current_node = current_node.next\n",
    "        print (None)\n",
    "        \n",
    "    def addFirst(self,item):\n",
    "        node = Node(item)\n",
    "        node.next = self.head # first set new node to point to current First node (to make it second node)\n",
    "        self.head = node #set head to new node to make it First node\n",
    " \n",
    "    def appendLast(self, data):\n",
    "        node = Node(data)\n",
    "        current_node = self.head\n",
    "        if current_node:\n",
    "            while current_node.next is not None:\n",
    "                current_node = current_node.next\n",
    "            current_node.next = node\n",
    "        else:\n",
    "            self.head = node\n",
    " \n",
    "    def remove(self, node_value):\n",
    "        current_node = self.head\n",
    "        previous_node = None\n",
    "        while current_node is not None:\n",
    "            if current_node.data == node_value:\n",
    "                # if this is the first node (head)\n",
    "                if previous_node is not None:\n",
    "                    previous_node.next = current_node.next\n",
    "                else:\n",
    "                    self.head = current_node.next\n",
    " \n",
    "            # needed for the next iteration\n",
    "            previous_node = current_node\n",
    "            current_node = current_node.next\n",
    "            \n",
    "    def search(self,item):\n",
    "        current_node = self.head\n",
    "        found = False\n",
    "        while current_node is not None:\n",
    "            if current_node.data == item:\n",
    "                found = True\n",
    "            current_node = current_node.next\n",
    "        return found\n",
    " \n",
    " \n",
    "s = SingleList()\n",
    "\n",
    "s.appendLast(31)\n",
    "s.appendLast(2)\n",
    "s.appendLast(3)\n",
    "s.appendLast(4)\n",
    "s.show()\n",
    "\n",
    "print()\n",
    "\n",
    "s.remove(31)\n",
    "s.remove(3)\n",
    "s.remove(2)\n",
    "s.show()\n",
    "\n",
    "print()\n",
    "\n",
    "s.addFirst(1)\n",
    "s.appendLast(8)\n",
    "s.show()\n",
    "\n",
    "print()\n",
    "\n",
    "print (s.search(4))\n",
    "print (s.search(90))\n",
    "print (s.search(8))"
   ]
  },
  {
   "cell_type": "code",
   "execution_count": null,
   "metadata": {
    "collapsed": true
   },
   "outputs": [],
   "source": []
  }
 ],
 "metadata": {
  "kernelspec": {
   "display_name": "Python 3",
   "language": "python",
   "name": "python3"
  },
  "language_info": {
   "codemirror_mode": {
    "name": "ipython",
    "version": 3
   },
   "file_extension": ".py",
   "mimetype": "text/x-python",
   "name": "python",
   "nbconvert_exporter": "python",
   "pygments_lexer": "ipython3",
   "version": "3.5.2"
  },
  "widgets": {
   "state": {},
   "version": "1.1.2"
  }
 },
 "nbformat": 4,
 "nbformat_minor": 0
}
