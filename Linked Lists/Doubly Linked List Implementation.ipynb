{
 "cells": [
  {
   "cell_type": "markdown",
   "metadata": {},
   "source": [
    "# Doubly Linked List Implementation\n",
    "\n",
    "In this lecture we will implement a Doubly Linked List "
   ]
  },
  {
   "cell_type": "code",
   "execution_count": 1,
   "metadata": {
    "collapsed": true
   },
   "outputs": [],
   "source": [
    "class DoublyLinkedListNode(object):\n",
    "    \n",
    "    def __init__(self,value):\n",
    "        \n",
    "        self.value = value\n",
    "        self.next_node = None\n",
    "        self.prev_node = None"
   ]
  },
  {
   "cell_type": "markdown",
   "metadata": {},
   "source": [
    "Now that we have our node that can reference next *and* previous values, let's begin to build out our linked list!"
   ]
  },
  {
   "cell_type": "code",
   "execution_count": 2,
   "metadata": {
    "collapsed": true
   },
   "outputs": [],
   "source": [
    "a = DoublyLinkedListNode(1)\n",
    "b = DoublyLinkedListNode(2)\n",
    "c = DoublyLinkedListNode(3)"
   ]
  },
  {
   "cell_type": "code",
   "execution_count": 3,
   "metadata": {
    "collapsed": true
   },
   "outputs": [],
   "source": [
    "# Setting b after a\n",
    "b.prev_node = a\n",
    "a.next_node = b"
   ]
  },
  {
   "cell_type": "code",
   "execution_count": 4,
   "metadata": {
    "collapsed": true
   },
   "outputs": [],
   "source": [
    "# Setting c after a\n",
    "b.next_node = c\n",
    "c.prev_node = b"
   ]
  },
  {
   "cell_type": "markdown",
   "metadata": {},
   "source": [
    "Having a Doubly Linked list allows us to go though our Linked List forwards **and** backwards."
   ]
  },
  {
   "cell_type": "markdown",
   "metadata": {},
   "source": [
    "# Good Job!"
   ]
  },
  {
   "cell_type": "code",
   "execution_count": 7,
   "metadata": {
    "collapsed": false
   },
   "outputs": [
    {
     "name": "stdout",
     "output_type": "stream",
     "text": [
      "Show list data:\n",
      "Current node:  5\n",
      "Next node:  6\n",
      "\n",
      "Previous node:  5\n",
      "Current node:  6\n",
      "Next node:  50\n",
      "\n",
      "Previous node:  6\n",
      "Current node:  50\n",
      "Next node:  30\n",
      "\n",
      "Previous node:  50\n",
      "Current node:  30\n",
      "\n",
      "**************************************************\n",
      "Show list data:\n",
      "Current node:  6\n",
      "Next node:  30\n",
      "\n",
      "Previous node:  6\n",
      "Current node:  30\n",
      "\n",
      "**************************************************\n"
     ]
    }
   ],
   "source": [
    "class Node(object):\n",
    " \n",
    "    def __init__(self, data):\n",
    "        self.data = data\n",
    "        self.prev = None\n",
    "        self.next = None\n",
    " \n",
    " \n",
    "class DoubleList(object):\n",
    " \n",
    "    head = None\n",
    "    tail = None\n",
    " \n",
    "    def append(self, data):\n",
    "        new_node = Node(data)\n",
    "        if self.head is None:\n",
    "            self.head = self.tail = new_node\n",
    "        else:\n",
    "            new_node.prev = self.tail\n",
    "            new_node.next = None\n",
    "            self.tail.next = new_node\n",
    "            self.tail = new_node\n",
    " \n",
    "    def remove(self, node_value):\n",
    "        current_node = self.head\n",
    " \n",
    "        while current_node is not None:\n",
    "            if current_node.data == node_value:\n",
    "                # if it's not the first element\n",
    "                if current_node.prev is not None:\n",
    "                    current_node.prev.next = current_node.next\n",
    "                    current_node.next.prev = current_node.prev\n",
    "                else:\n",
    "                    # otherwise we have no prev (it's None), head is the next one, and prev becomes None\n",
    "                    self.head = current_node.next\n",
    "                    current_node.next.prev = None\n",
    " \n",
    "            current_node = current_node.next\n",
    " \n",
    "    def show(self):\n",
    "        print (\"Show list data:\")\n",
    "        current_node = self.head\n",
    "        while current_node is not None:\n",
    "            print (\"Previous node: \",current_node.prev.data) if hasattr(current_node.prev, \"data\") else None,\n",
    "            print (\"Current node: \",current_node.data,)\n",
    "            print (\"Next node: \",current_node.next.data) if hasattr(current_node.next, \"data\") else None\n",
    "            print()\n",
    " \n",
    "            current_node = current_node.next\n",
    "        print (\"*\"*50)\n",
    " \n",
    " \n",
    "d = DoubleList()\n",
    " \n",
    "d.append(5)\n",
    "d.append(6)\n",
    "d.append(50)\n",
    "d.append(30)\n",
    " \n",
    "d.show()\n",
    " \n",
    "d.remove(50)\n",
    "d.remove(5)\n",
    " \n",
    "d.show()"
   ]
  },
  {
   "cell_type": "code",
   "execution_count": null,
   "metadata": {
    "collapsed": true
   },
   "outputs": [],
   "source": []
  }
 ],
 "metadata": {
  "kernelspec": {
   "display_name": "Python 3",
   "language": "python",
   "name": "python3"
  },
  "language_info": {
   "codemirror_mode": {
    "name": "ipython",
    "version": 3
   },
   "file_extension": ".py",
   "mimetype": "text/x-python",
   "name": "python",
   "nbconvert_exporter": "python",
   "pygments_lexer": "ipython3",
   "version": "3.5.2"
  },
  "widgets": {
   "state": {},
   "version": "1.1.2"
  }
 },
 "nbformat": 4,
 "nbformat_minor": 0
}
