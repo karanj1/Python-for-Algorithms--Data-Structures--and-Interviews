{
 "cells": [
  {
   "cell_type": "markdown",
   "metadata": {},
   "source": [
    "### Bubble sort"
   ]
  },
  {
   "cell_type": "code",
   "execution_count": 1,
   "metadata": {
    "collapsed": true
   },
   "outputs": [],
   "source": [
    "def bubble_sort(arr):\n",
    "    # For every element (arranged backwards)\n",
    "    for n in range(len(arr)-1,0,-1):\n",
    "        #\n",
    "        for k in range(n):\n",
    "            # If we come to a point to switch\n",
    "            if arr[k]>arr[k+1]:\n",
    "                temp = arr[k]          #//in bubble_sort sort it swaps/assigns numbers inside inner loop\n",
    "                arr[k] = arr[k+1]\n",
    "                arr[k+1] = temp"
   ]
  },
  {
   "cell_type": "code",
   "execution_count": 2,
   "metadata": {},
   "outputs": [
    {
     "data": {
      "text/plain": [
       "[1, 2, 3, 4, 5, 6, 7, 8, 13, 20]"
      ]
     },
     "execution_count": 2,
     "metadata": {},
     "output_type": "execute_result"
    }
   ],
   "source": [
    "arr = [3,2,13,4,6,5,7,8,1,20]\n",
    "bubble_sort(arr)\n",
    "\n",
    "arr"
   ]
  },
  {
   "cell_type": "markdown",
   "metadata": {},
   "source": [
    "### Selection Sort"
   ]
  },
  {
   "cell_type": "code",
   "execution_count": 14,
   "metadata": {
    "collapsed": true
   },
   "outputs": [],
   "source": [
    "def selection_sort(arr):\n",
    "    \n",
    "    for i in range(len(arr)):\n",
    "        minPosition = i\n",
    "        \n",
    "        for j in range(i+1, len(arr)):\n",
    "            if arr [j] < arr[minPosition]:    #//in selection sort it doesnt swap numbers until inner loop is finished\n",
    "                minPosition = j       # assigns index of new minimum but doesnt assigns the number itself //index means i , j, minimum\n",
    "        \n",
    "        temp = arr[i]                  #//swapping of numbers is done here\t// numbers means a[i], a[j], a[minimum]...\n",
    "        arr[i] = arr[minPosition]\n",
    "        arr[minPosition] = temp"
   ]
  },
  {
   "cell_type": "code",
   "execution_count": 15,
   "metadata": {},
   "outputs": [
    {
     "data": {
      "text/plain": [
       "[1, 2, 3, 4, 5, 6, 7, 8, 13, 20]"
      ]
     },
     "execution_count": 15,
     "metadata": {},
     "output_type": "execute_result"
    }
   ],
   "source": [
    "arr = [3,2,13,4,6,5,7,8,1,20]\n",
    "selection_sort(arr)\n",
    "\n",
    "arr"
   ]
  },
  {
   "cell_type": "markdown",
   "metadata": {},
   "source": [
    "### Insertion Sort"
   ]
  },
  {
   "cell_type": "code",
   "execution_count": 18,
   "metadata": {},
   "outputs": [],
   "source": [
    "# (pSuedo code at 3:00) : https://www.udemy.com/practical-data-structures-algorithms-in-java/learn/v4/t/lecture/4796476?start=0\n",
    "def insertion_sort(arr):\n",
    "    \n",
    "    #for every index in arrary\n",
    "    for i in range(1, len(arr)):\n",
    "        element = arr[i]\n",
    "        j = i-1\n",
    "        \n",
    "        # Sorted Sublist\n",
    "        while j>=0 and arr[j] > element:\n",
    "            arr[j+1] = arr[j]    #//in insertion sort it swaps/assigns numbers inside inner loop\n",
    "            j = j-1\n",
    "        \n",
    "        arr[j+1] = element\n",
    "            "
   ]
  },
  {
   "cell_type": "code",
   "execution_count": 19,
   "metadata": {},
   "outputs": [
    {
     "data": {
      "text/plain": [
       "[1, 2, 3, 4, 5, 6, 7, 8, 13, 20]"
      ]
     },
     "execution_count": 19,
     "metadata": {},
     "output_type": "execute_result"
    }
   ],
   "source": [
    "arr = [3,2,13,4,6,5,7,8,1,20]\n",
    "insertion_sort(arr)\n",
    "\n",
    "arr"
   ]
  },
  {
   "cell_type": "markdown",
   "metadata": {},
   "source": [
    "### Shell Sort"
   ]
  },
  {
   "cell_type": "code",
   "execution_count": 44,
   "metadata": {
    "collapsed": true
   },
   "outputs": [],
   "source": [
    "def shell_sort(arr):\n",
    "    sublistcount = len(arr)//2\n",
    "    \n",
    "    # While we still have sub lists\n",
    "    while sublistcount > 0:\n",
    "        for start in range(sublistcount):\n",
    "            # Use a gap insertion\n",
    "            gap_insertion_sort(arr,start,sublistcount)\n",
    "\n",
    "      \n",
    "\n",
    "        sublistcount = sublistcount // 2\n",
    "\n",
    "def gap_insertion_sort(arr,start,gap):                   #See insertion sort above, replacing '1' with 'gap' at few places\n",
    "    for i in range(start+gap,len(arr),gap):\n",
    "\n",
    "        element = arr[i]\n",
    "        j = i-gap\n",
    "        \n",
    "        # Sorted Sublist\n",
    "        while j>=0 and arr[j] > element:\n",
    "            arr[j+gap] = arr[j]    #//in insertion sort it swaps/assigns numbers inside inner loop\n",
    "            j = j-gap\n",
    "        \n",
    "        arr[j+gap] = element"
   ]
  },
  {
   "cell_type": "code",
   "execution_count": 45,
   "metadata": {},
   "outputs": [
    {
     "data": {
      "text/plain": [
       "[2, 4, 6, 7, 21, 23, 24, 45, 45, 67, 90]"
      ]
     },
     "execution_count": 45,
     "metadata": {},
     "output_type": "execute_result"
    }
   ],
   "source": [
    "arr = [45,67,23,45,21,24,7,2,6,4,90]\n",
    "shell_sort(arr)\n",
    "arr"
   ]
  },
  {
   "cell_type": "code",
   "execution_count": null,
   "metadata": {
    "collapsed": true
   },
   "outputs": [],
   "source": []
  }
 ],
 "metadata": {
  "kernelspec": {
   "display_name": "Python 3",
   "language": "python",
   "name": "python3"
  },
  "language_info": {
   "codemirror_mode": {
    "name": "ipython",
    "version": 3
   },
   "file_extension": ".py",
   "mimetype": "text/x-python",
   "name": "python",
   "nbconvert_exporter": "python",
   "pygments_lexer": "ipython3",
   "version": "3.4.5"
  }
 },
 "nbformat": 4,
 "nbformat_minor": 2
}
