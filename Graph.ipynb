{
 "cells": [
  {
   "cell_type": "markdown",
   "metadata": {},
   "source": [
    "### Graph using Adjacency list"
   ]
  },
  {
   "cell_type": "code",
   "execution_count": 67,
   "metadata": {
    "collapsed": true
   },
   "outputs": [],
   "source": [
    "class vertex:\n",
    "    def __init__(self,key):\n",
    "        self.id = key\n",
    "        self.connectedTo = {}   # Dictionary {vertex : weight} # Creating dictionary for each vertex instantiated\n",
    "    \n",
    "    def addNeighbour(self,nbr, weight=0):\n",
    "        self.connectedTo[nbr] = weight    #here nbr is vertex //see addEdge function\n",
    "        \n",
    "    def __str__(self):\n",
    "        return str(self.id) + ' connectedTo: ' + str([x.id for x in self.connectedTo])  #vertex.id for vertex in self.comnectedTo\n",
    "\n",
    "    def getConnections(self):\n",
    "        return self.connectedTo.keys()\n",
    "\n",
    "    def getId(self):\n",
    "        return self.id\n",
    "\n",
    "    def getWeight(self,nbr):\n",
    "        if nbr not in self.connectedTo:   # if vertex is not in adjacent list\n",
    "            return \"not connected\"\n",
    "        else:\n",
    "            return self.connectedTo[nbr]"
   ]
  },
  {
   "cell_type": "code",
   "execution_count": 68,
   "metadata": {
    "collapsed": true
   },
   "outputs": [],
   "source": [
    "class Graph:\n",
    "    def __init__(self):\n",
    "        self.vertList = {}    # Dictionary {key : vertex} => key(key), vertex(value) pair\n",
    "        self.numVertices = 0\n",
    "\n",
    "    def addVertex(self,key):\n",
    "        self.numVertices += 1\n",
    "        newVertex = vertex(key)\n",
    "        self.vertList[key] = newVertex\n",
    "        return newVertex\n",
    "    \n",
    "    def addEdge(self, f, t, cost=0):\n",
    "        if f not in self.vertList:\n",
    "            nv = self.addVertex(f)\n",
    "        if t not in self.vertList:\n",
    "            nv = self.addVertex(t)\n",
    "            \n",
    "        self.vertList[f].addNeighbour(self.vertList[t], cost)   #addNeighbour(vertex, weight)\n",
    "    \n",
    "    def getVertex(self,n):\n",
    "        if n in self.vertList:\n",
    "            return self.vertList[n]\n",
    "        else:\n",
    "            return None\n",
    "\n",
    "    def __contains__(self,n):\n",
    "        return n in self.vertList\n",
    "\n",
    "    def getVertices(self):\n",
    "        return self.vertList.keys()\n",
    "\n",
    "    def __iter__(self):\n",
    "        return iter(self.vertList.values())  #here '.values()' means verteices.... this will call __str__ method in vertex class"
   ]
  },
  {
   "cell_type": "code",
   "execution_count": 69,
   "metadata": {},
   "outputs": [],
   "source": [
    "g = Graph()\n",
    "for i in range(6):\n",
    "    g.addVertex(i)   #add vertices having key from 0 to 5 in graph"
   ]
  },
  {
   "cell_type": "code",
   "execution_count": 70,
   "metadata": {},
   "outputs": [
    {
     "data": {
      "text/plain": [
       "{0: <__main__.vertex at 0x7f706c5a88d0>,\n",
       " 1: <__main__.vertex at 0x7f706c5a8908>,\n",
       " 2: <__main__.vertex at 0x7f706c5a8940>,\n",
       " 3: <__main__.vertex at 0x7f706c5a89e8>,\n",
       " 4: <__main__.vertex at 0x7f706c5a8a20>,\n",
       " 5: <__main__.vertex at 0x7f706c5a8a58>}"
      ]
     },
     "execution_count": 70,
     "metadata": {},
     "output_type": "execute_result"
    }
   ],
   "source": [
    "g.vertList"
   ]
  },
  {
   "cell_type": "code",
   "execution_count": 72,
   "metadata": {},
   "outputs": [
    {
     "data": {
      "text/plain": [
       "21"
      ]
     },
     "execution_count": 72,
     "metadata": {},
     "output_type": "execute_result"
    }
   ],
   "source": [
    "g.addEdge(0,1,12)\n",
    "g.addEdge(3,5,19)\n",
    "g.addEdge(6,2,21)  # vertex with key 6 will be added to graph\n",
    "\n",
    "g.vertList[6].getWeight(g.vertList[2])\n",
    "#g.vertList[3].getWeight(g.vertList[0])    #not connected, there is no edge added between them"
   ]
  },
  {
   "cell_type": "code",
   "execution_count": 52,
   "metadata": {},
   "outputs": [
    {
     "name": "stdout",
     "output_type": "stream",
     "text": [
      "0 connectedTo: [1]\n",
      "dict_keys([<__main__.vertex object at 0x7f706c5dbfd0>])\n",
      "\n",
      "\n",
      "1 connectedTo: []\n",
      "dict_keys([])\n",
      "\n",
      "\n",
      "2 connectedTo: []\n",
      "dict_keys([])\n",
      "\n",
      "\n",
      "3 connectedTo: [5]\n",
      "dict_keys([<__main__.vertex object at 0x7f706c5dbcc0>])\n",
      "\n",
      "\n",
      "4 connectedTo: []\n",
      "dict_keys([])\n",
      "\n",
      "\n",
      "5 connectedTo: []\n",
      "dict_keys([])\n",
      "\n",
      "\n",
      "6 connectedTo: [2]\n",
      "dict_keys([<__main__.vertex object at 0x7f706c5dbe48>])\n",
      "\n",
      "\n"
     ]
    }
   ],
   "source": [
    "for vertex in g:\n",
    "    print (vertex)\n",
    "    print (vertex.getConnections())\n",
    "    print ('\\n')"
   ]
  },
  {
   "cell_type": "markdown",
   "metadata": {},
   "source": [
    "#### Another way "
   ]
  },
  {
   "cell_type": "code",
   "execution_count": 76,
   "metadata": {
    "collapsed": true
   },
   "outputs": [],
   "source": [
    "from enum import Enum  \n",
    "\n",
    "from collections import OrderedDict\n",
    "\n",
    "\n",
    "class State(Enum):\n",
    "    unvisited = 1 #White\n",
    "    visited = 2 #Black\n",
    "    visiting = 3 #Gray\n",
    "\n",
    "\n",
    "class Node:\n",
    "\n",
    "    def __init__(self, num):\n",
    "        self.num = num\n",
    "        self.visit_state = State.unvisited\n",
    "        self.adjacent = OrderedDict()  # key = node, val = weight\n",
    "\n",
    "    def __str__(self):\n",
    "        return str(self.num)\n",
    "    \n",
    "class Graph:\n",
    "\n",
    "    def __init__(self):\n",
    "        self.nodes = OrderedDict()  # key = node id, val = node\n",
    "\n",
    "    def add_node(self, num):\n",
    "        node = Node(num)\n",
    "        self.nodes[num] = node\n",
    "        return node\n",
    "\n",
    "    def add_edge(self, source, dest, weight=0):\n",
    "        if source not in self.nodes:\n",
    "            self.add_node(source)\n",
    "        if dest not in self.nodes:\n",
    "            self.add_node(dest)\n",
    "        self.nodes[source].adjacent[self.nodes[dest]] = weight"
   ]
  },
  {
   "cell_type": "code",
   "execution_count": 77,
   "metadata": {
    "collapsed": true
   },
   "outputs": [],
   "source": [
    "g = Graph()\n",
    "g.add_edge(0, 1, 5)  # vertices with key 0 and 1 will be added to graph\n",
    "g.add_edge(1,2,12)   # vertex with key 2 will be added to graph\n",
    "g.add_edge(6,2,21)   # vertex with key 6 will be added to graph"
   ]
  },
  {
   "cell_type": "code",
   "execution_count": 78,
   "metadata": {},
   "outputs": [
    {
     "data": {
      "text/plain": [
       "OrderedDict([(0, <__main__.Node at 0x7f706c5a09e8>),\n",
       "             (1, <__main__.Node at 0x7f706c5a0a58>),\n",
       "             (2, <__main__.Node at 0x7f706c5a08d0>),\n",
       "             (6, <__main__.Node at 0x7f706c5a0a20>)])"
      ]
     },
     "execution_count": 78,
     "metadata": {},
     "output_type": "execute_result"
    }
   ],
   "source": [
    "g.nodes"
   ]
  },
  {
   "cell_type": "code",
   "execution_count": null,
   "metadata": {
    "collapsed": true
   },
   "outputs": [],
   "source": []
  }
 ],
 "metadata": {
  "kernelspec": {
   "display_name": "Python 3",
   "language": "python",
   "name": "python3"
  },
  "language_info": {
   "codemirror_mode": {
    "name": "ipython",
    "version": 3
   },
   "file_extension": ".py",
   "mimetype": "text/x-python",
   "name": "python",
   "nbconvert_exporter": "python",
   "pygments_lexer": "ipython3",
   "version": "3.4.5"
  }
 },
 "nbformat": 4,
 "nbformat_minor": 2
}
